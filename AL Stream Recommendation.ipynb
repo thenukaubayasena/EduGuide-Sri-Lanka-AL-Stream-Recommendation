{
  "cells": [
    {
      "cell_type": "code",
      "execution_count": 19,
      "metadata": {
        "id": "k6yOOVhNgAzF"
      },
      "outputs": [],
      "source": [
        "################################################################################\n",
        "# A/L STREAM CLASSIFICATION - ADVANCED PIPELINE FOR HIGH ACCURACY\n",
        "################################################################################"
      ]
    },
    {
      "cell_type": "code",
      "execution_count": null,
      "metadata": {
        "id": "7M2HA7asffgD"
      },
      "outputs": [],
      "source": [
        "# ========================== 1. IMPORTS ========================================\n",
        "import numpy as np\n",
        "import pandas as pd\n",
        "import matplotlib.pyplot as plt\n",
        "import seaborn as sns\n",
        "\n",
        "# Core scikit-learn imports\n",
        "from sklearn.model_selection import train_test_split, GridSearchCV\n",
        "from sklearn.pipeline import Pipeline\n",
        "from sklearn.compose import ColumnTransformer\n",
        "\n",
        "# Preprocessing\n",
        "from sklearn.impute import SimpleImputer\n",
        "from sklearn.preprocessing import OneHotEncoder, StandardScaler\n",
        "\n",
        "# Models\n",
        "from sklearn.ensemble import RandomForestClassifier\n",
        "from xgboost import XGBClassifier\n",
        "from sklearn.linear_model import LogisticRegression\n",
        "\n",
        "# Ensemble\n",
        "from sklearn.ensemble import StackingClassifier\n",
        "\n",
        "# Metrics\n",
        "from sklearn.metrics import classification_report, confusion_matrix"
      ]
    },
    {
      "cell_type": "code",
      "execution_count": 21,
      "metadata": {
        "colab": {
          "base_uri": "https://localhost:8080/"
        },
        "id": "aElbqyhIfiH4",
        "outputId": "2dbf6af3-a5fd-4fe0-e90d-a37f36cadbfd"
      },
      "outputs": [
        {
          "name": "stdout",
          "output_type": "stream",
          "text": [
            "Initial Shape: (634, 13)\n",
            "\n",
            "Missing values in each column:\n",
            " Stream                                         0\n",
            "Did everything go well with your A/L exams?    0\n",
            "Maths                                          0\n",
            "Science                                        0\n",
            "Religion                                       0\n",
            "English                                        0\n",
            "Sinhala or Tamil                               0\n",
            "History                                        0\n",
            "Basket I                                       0\n",
            "Basket II                                      0\n",
            "Basket III                                     0\n",
            "Favorite Subject                               0\n",
            "Career                                         0\n",
            "dtype: int64\n",
            "Shape after dropping missing rows: (534, 13)\n"
          ]
        }
      ],
      "source": [
        "# ========================== 2. DATA LOADING / CLEANING =========================\n",
        "\n",
        "data = pd.read_csv(\"updated_dataset.csv\")\n",
        "\n",
        "print(\"Initial Shape:\", data.shape)\n",
        "\n",
        "# OPTIONAL: Drop duplicates\n",
        "data.drop_duplicates(inplace=True)\n",
        "\n",
        "# Identify missing values\n",
        "missing_count = data.isnull().sum()\n",
        "print(\"\\nMissing values in each column:\\n\", missing_count)\n",
        "\n",
        "data.dropna(axis=0, inplace=True)\n",
        "\n",
        "print(\"Shape after dropping missing rows:\", data.shape)"
      ]
    },
    {
      "cell_type": "code",
      "execution_count": 22,
      "metadata": {
        "id": "sbvFn8Ghflgk"
      },
      "outputs": [],
      "source": [
        "# ========================== 3. DEFINE GRADE MAPPING ===========================\n",
        "# O/L Grades often have an ordinal relationship: A > B > C > S > W\n",
        "grade_mapping = {\n",
        "    'A': 5,\n",
        "    'B': 4,\n",
        "    'C': 3,\n",
        "    'S': 2,\n",
        "    'W': 1,\n",
        "}"
      ]
    },
    {
      "cell_type": "code",
      "execution_count": 23,
      "metadata": {
        "id": "EPav8aeTfoZu"
      },
      "outputs": [],
      "source": [
        "# ========================== 4. MAP O/L COLUMNS ================================\n",
        "# Example columns that are letter grades\n",
        "grade_cols = [\n",
        "    \"Maths\", \"Science\", \"Religion\", \"English\",\n",
        "    \"Sinhala or Tamil\", \"History\",\n",
        "    \"Basket I\", \"Basket II\", \"Basket III\"\n",
        "]\n",
        "\n",
        "# Convert them if they exist in the dataset\n",
        "for gc in grade_cols:\n",
        "    if gc in data.columns:\n",
        "        data[gc] = data[gc].map(grade_mapping)\n",
        "\n",
        "# We assume the target column is 'Stream'\n",
        "target_col = \"Stream\"\n",
        "\n",
        "# Identify possible categorical columns that are NOT the grade columns or the target\n",
        "possible_cat_cols = [\"Favorite Subject\", \"Career\", \"OtherCategorical1\", \"OtherCategorical2\"]\n",
        "cat_cols = [c for c in possible_cat_cols if c in data.columns]\n",
        "\n",
        "# Numeric columns: the grade columns we mapped + any other numeric fields you want\n",
        "numeric_cols = [c for c in grade_cols if c in data.columns]"
      ]
    },
    {
      "cell_type": "code",
      "execution_count": 24,
      "metadata": {
        "id": "RXZo-itJfq-x"
      },
      "outputs": [],
      "source": [
        "# ========================== 5. SPLIT DATA =====================================\n",
        "X = data[numeric_cols + cat_cols]\n",
        "y = data[target_col]\n",
        "\n",
        "# For classification, we do a stratified split (helps preserve class proportions)\n",
        "X_train, X_test, y_train, y_test = train_test_split(\n",
        "    X, y, test_size=0.2, random_state=42, stratify=y)"
      ]
    },
    {
      "cell_type": "code",
      "execution_count": 25,
      "metadata": {
        "id": "Gj_41FxPfxlZ"
      },
      "outputs": [],
      "source": [
        "# ========================== 6. BUILD PREPROCESSING PIPELINE ===================\n",
        "# a) Numeric pipeline\n",
        "numeric_transformer = Pipeline([\n",
        "    (\"imputer\", SimpleImputer(strategy=\"mean\")),  # or \"median\"\n",
        "    (\"scaler\", StandardScaler())\n",
        "])\n",
        "\n",
        "# b) Categorical pipeline\n",
        "categorical_transformer = Pipeline([\n",
        "    (\"imputer\", SimpleImputer(strategy=\"most_frequent\")),\n",
        "    (\"onehot\", OneHotEncoder(handle_unknown=\"ignore\"))\n",
        "])\n",
        "\n",
        "# c) ColumnTransformer that applies numeric_transformer to numeric_cols\n",
        "#    and categorical_transformer to cat_cols\n",
        "preprocessor = ColumnTransformer([\n",
        "    (\"num\", numeric_transformer, numeric_cols),\n",
        "    (\"cat\", categorical_transformer, cat_cols)\n",
        "])"
      ]
    },
    {
      "cell_type": "code",
      "execution_count": 26,
      "metadata": {
        "id": "6ITEbfiEf0ZA"
      },
      "outputs": [],
      "source": [
        "# ========================== 7. BUILD ENSEMBLE (STACKING) MODEL ===============\n",
        "# We'll combine:\n",
        "# 1) RandomForestClassifier\n",
        "# 2) XGBClassifier\n",
        "# 3) LogisticRegression\n",
        "# As base learners in a StackingClassifier.\n",
        "\n",
        "# Each base learner can have different hyperparams. We'll do a short grid search\n",
        "# for illustration, but you can expand param_grid with more extensive combos.\n",
        "\n",
        "estimators = [\n",
        "    (\"rf\", RandomForestClassifier(random_state=42)),\n",
        "    (\"xgb\", XGBClassifier(use_label_encoder=False, eval_metric=\"mlogloss\", random_state=42)),\n",
        "    (\"lr\", LogisticRegression(solver=\"lbfgs\", max_iter=1000, random_state=42))\n",
        "]\n",
        "\n",
        "# The final meta-learner can be another classifier or any classifier you want.\n",
        "stack_clf = StackingClassifier(\n",
        "    estimators=estimators,\n",
        "    final_estimator=LogisticRegression(solver=\"lbfgs\", max_iter=1000, random_state=42)\n",
        ")\n",
        "\n",
        "# Build a pipeline that first preprocesses, then fits the stacking ensemble\n",
        "pipeline = Pipeline([\n",
        "    (\"preprocess\", preprocessor),\n",
        "    (\"stack\", stack_clf)\n",
        "])"
      ]
    },
    {
      "cell_type": "code",
      "execution_count": 27,
      "metadata": {
        "id": "BL0IcFVngV3U"
      },
      "outputs": [],
      "source": [
        "# ========================== 8. DEFINE A PARAM GRID FOR TUNING =================\n",
        "param_grid = {\n",
        "    # Example: Tuning n_estimators of the random forest\n",
        "    \"stack__rf__n_estimators\": [100, 200],\n",
        "    \"stack__rf__max_depth\": [None, 5],\n",
        "    # Example: Tuning the XGB learning rate\n",
        "    \"stack__xgb__learning_rate\": [0.1, 0.01],\n",
        "}\n",
        "\n",
        "grid_search = GridSearchCV(\n",
        "    pipeline,\n",
        "    param_grid,\n",
        "    cv=5,                 # 5-fold cross validation\n",
        "    scoring=\"accuracy\",   # or \"f1_weighted\", \"f1_macro\" depending on class distribution\n",
        "    n_jobs=-1,            # use all cores\n",
        "    verbose=1\n",
        ")"
      ]
    },
    {
      "cell_type": "code",
      "execution_count": 28,
      "metadata": {
        "colab": {
          "base_uri": "https://localhost:8080/"
        },
        "id": "Mi3a25CKgXdk",
        "outputId": "05fd477c-9ad0-464e-c810-a70ba39372c5"
      },
      "outputs": [
        {
          "name": "stdout",
          "output_type": "stream",
          "text": [
            "Fitting the stacking classifier with GridSearchCV...\n",
            "Fitting 5 folds for each of 8 candidates, totalling 40 fits\n"
          ]
        },
        {
          "name": "stderr",
          "output_type": "stream",
          "text": [
            "c:\\Users\\thenu\\AppData\\Local\\Programs\\Python\\Python38\\lib\\site-packages\\xgboost\\core.py:158: UserWarning: [02:26:24] WARNING: C:\\buildkite-agent\\builds\\buildkite-windows-cpu-autoscaling-group-i-08cbc0333d8d4aae1-1\\xgboost\\xgboost-ci-windows\\src\\learner.cc:740: \n",
            "Parameters: { \"use_label_encoder\" } are not used.\n",
            "\n",
            "  warnings.warn(smsg, UserWarning)\n",
            "c:\\Users\\thenu\\AppData\\Local\\Programs\\Python\\Python38\\lib\\site-packages\\xgboost\\core.py:158: UserWarning: [02:26:27] WARNING: C:\\buildkite-agent\\builds\\buildkite-windows-cpu-autoscaling-group-i-08cbc0333d8d4aae1-1\\xgboost\\xgboost-ci-windows\\src\\learner.cc:740: \n",
            "Parameters: { \"use_label_encoder\" } are not used.\n",
            "\n",
            "  warnings.warn(smsg, UserWarning)\n",
            "c:\\Users\\thenu\\AppData\\Local\\Programs\\Python\\Python38\\lib\\site-packages\\xgboost\\core.py:158: UserWarning: [02:26:28] WARNING: C:\\buildkite-agent\\builds\\buildkite-windows-cpu-autoscaling-group-i-08cbc0333d8d4aae1-1\\xgboost\\xgboost-ci-windows\\src\\learner.cc:740: \n",
            "Parameters: { \"use_label_encoder\" } are not used.\n",
            "\n",
            "  warnings.warn(smsg, UserWarning)\n"
          ]
        },
        {
          "name": "stdout",
          "output_type": "stream",
          "text": [
            "Best parameters: {'stack__rf__max_depth': None, 'stack__rf__n_estimators': 200, 'stack__xgb__learning_rate': 0.1}\n",
            "Best CV accuracy: 0.7914911080711354\n"
          ]
        }
      ],
      "source": [
        "# ========================== 9. FIT THE MODEL ==================================\n",
        "print(\"Fitting the stacking classifier with GridSearchCV...\")\n",
        "grid_search.fit(X_train, y_train)\n",
        "\n",
        "print(\"Best parameters:\", grid_search.best_params_)\n",
        "print(\"Best CV accuracy:\", grid_search.best_score_)"
      ]
    },
    {
      "cell_type": "code",
      "execution_count": 34,
      "metadata": {
        "colab": {
          "base_uri": "https://localhost:8080/",
          "height": 834
        },
        "id": "8nlguFrXgZ1c",
        "outputId": "139bd2c7-4bb3-45ad-a97f-a4f8414cde78"
      },
      "outputs": [
        {
          "name": "stdout",
          "output_type": "stream",
          "text": [
            "\n",
            "Classification Report (Test Set):\n",
            "                  precision    recall  f1-score   support\n",
            "\n",
            "            Arts       0.82      0.69      0.75        13\n",
            "     Bio Science       1.00      0.43      0.60        21\n",
            "        Commerce       0.75      0.64      0.69        14\n",
            "Physical Science       0.75      0.98      0.85        45\n",
            "      Technology       0.75      0.86      0.80        14\n",
            "\n",
            "        accuracy                           0.78       107\n",
            "       macro avg       0.81      0.72      0.74       107\n",
            "    weighted avg       0.81      0.78      0.76       107\n",
            "\n",
            "Confusion Matrix (Test Set):\n",
            "[[ 9  0  3  0  1]\n",
            " [ 1  9  0 10  1]\n",
            " [ 1  0  9  3  1]\n",
            " [ 0  0  0 44  1]\n",
            " [ 0  0  0  2 12]]\n"
          ]
        },
        {
          "data": {
            "image/png": "[encoded data removed]",
            "text/plain": [
              "<Figure size 700x350 with 1 Axes>"
            ]
          },
          "metadata": {},
          "output_type": "display_data"
        },
        {
          "data": {
            "image/png": "[encoded data removed]",
            "text/plain": [
              "<Figure size 600x500 with 2 Axes>"
            ]
          },
          "metadata": {},
          "output_type": "display_data"
        }
      ],
      "source": [
        "# ========================== 10. EVALUATE ON TEST ==============================\n",
        "best_model = grid_search.best_estimator_\n",
        "\n",
        "y_pred = best_model.predict(X_test)\n",
        "\n",
        "print(\"\\nClassification Report (Test Set):\")\n",
        "print(classification_report(y_test, y_pred))\n",
        "\n",
        "print(\"Confusion Matrix (Test Set):\")\n",
        "cm = confusion_matrix(y_test, y_pred)\n",
        "print(cm)\n",
        "\n",
        "# Plot 1: Count of each degree:\n",
        "plt.figure(figsize=(7, 3.5))\n",
        "sns.countplot(y='Stream', data=data, order = data['Stream'].value_counts().index)\n",
        "plt.title('Students Count of Each Streams')\n",
        "plt.xlabel('Students Count')\n",
        "plt.ylabel('Stream')\n",
        "plt.show()\n",
        "\n",
        "# Plot 2: Heatmap of the confusion matrix:\n",
        "plt.figure(figsize=(6, 5))\n",
        "sns.heatmap(cm, annot=True, fmt='d', cmap=\"Blues\")\n",
        "plt.title(\"Confusion Matrix\")\n",
        "plt.xlabel(\"Predicted\")\n",
        "plt.ylabel(\"True\")\n",
        "plt.show()"
      ]
    },
    {
      "cell_type": "code",
      "execution_count": 35,
      "metadata": {
        "id": "Z45c1VKQgjt1"
      },
      "outputs": [],
      "source": [
        "# ========================== 11. EXAMPLE PREDICTION FUNCTION ===================\n",
        "def predict_al_stream(model, user_inputs: dict):\n",
        "    \"\"\"\n",
        "    Given the trained pipeline model and a dictionary of user inputs\n",
        "    (matching the columns used in X), return the predicted stream.\n",
        "    \"\"\"\n",
        "    # Convert to DataFrame\n",
        "    user_df = pd.DataFrame([user_inputs])\n",
        "    return model.predict(user_df)[0]"
      ]
    },
    {
      "cell_type": "code",
      "execution_count": null,
      "metadata": {},
      "outputs": [],
      "source": [
        "# ========================== 12. SUCCESS PREDICTION FUNCTION ===================\n",
        "def predict_success_probability(user_inputs: dict):\n",
        "    \"\"\"\n",
        "    Predicts the probability of getting good A/L results based on similar past students.\n",
        "    Returns:\n",
        "        - success_percentage: % of similar students who reported \"Yes, everything went well\"\n",
        "        - similar_count: Number of similar students in the dataset\n",
        "    \"\"\"\n",
        "    # Convert user inputs to DataFrame\n",
        "    user_df = pd.DataFrame([user_inputs])\n",
        "    \n",
        "    # 1. Find similar students (using Euclidean distance on numeric features)\n",
        "    from sklearn.metrics.pairwise import euclidean_distances\n",
        "    \n",
        "    # Preprocess user input same as training data\n",
        "    processed_input = preprocessor.transform(user_df)\n",
        "    \n",
        "    # Preprocess training data (if not already)\n",
        "    X_train_processed = preprocessor.transform(X_train)\n",
        "    \n",
        "    # Calculate distances to all training samples\n",
        "    distances = euclidean_distances(processed_input, X_train_processed)[0]\n",
        "    \n",
        "    # Get indices of the 50 most similar students\n",
        "    similar_indices = np.argsort(distances)[:50]\n",
        "    similar_students = data.iloc[similar_indices]\n",
        "    \n",
        "    # 2. Calculate success percentage\n",
        "    success_counts = similar_students['Did everything go well with your A/L exams?'].value_counts(normalize=True) * 100\n",
        "    success_percentage = success_counts.get(\"Yes, everything went well\", 0)\n",
        "    similar_count = len(similar_indices)\n",
        "    \n",
        "    return success_percentage, similar_count"
      ]
    },
    {
      "cell_type": "code",
      "execution_count": 37,
      "metadata": {},
      "outputs": [],
      "source": [
        "# ========================== 13. ENHANCED PREDICTION FUNCTION =================\n",
        "def enhanced_predict(model, user_inputs: dict):\n",
        "    \"\"\"\n",
        "    Enhanced prediction that returns:\n",
        "    - Predicted stream\n",
        "    - Confidence score\n",
        "    - Success probability\n",
        "    - Similar student count\n",
        "    \"\"\"\n",
        "    # 1. Get stream prediction\n",
        "    predicted_stream = predict_al_stream(model, user_inputs)\n",
        "    \n",
        "    # 2. Get probabilities\n",
        "    user_df = pd.DataFrame([user_inputs])\n",
        "    class_probabilities = model.predict_proba(user_df)[0]\n",
        "    confidence = np.max(class_probabilities)\n",
        "    \n",
        "    # 3. Get success probability\n",
        "    success_percentage, similar_count = predict_success_probability(user_inputs)\n",
        "    \n",
        "    return {\n",
        "        \"predicted_stream\": predicted_stream,\n",
        "        \"confidence\": float(confidence),\n",
        "        \"success_probability\": float(success_percentage),\n",
        "        \"similar_students_count\": int(similar_count),\n",
        "        \"interpretation\": f\"Based on {similar_count} similar past students, {success_percentage:.1f}% achieved good A/L results\"\n",
        "    }"
      ]
    },
    {
      "cell_type": "code",
      "execution_count": 38,
      "metadata": {},
      "outputs": [],
      "source": [
        "# ========================== 14. STREAM MAPPING ==========================\n",
        "model_data = {\n",
        "    \"model\": best_model,\n",
        "    \"preprocessor\": preprocessor,\n",
        "    \"stream_mapping\": {\n",
        "        0: \"Arts\",\n",
        "        1: \"Bio Science\",\n",
        "        2: \"Commerce\",\n",
        "        3: \"Physical Science\",\n",
        "        4: \"Technology\"\n",
        "    },\n",
        "    \"X_train\": X_train,  # Needed for similarity comparison\n",
        "    \"data\": data         # Original data with A_L_Result column\n",
        "}"
      ]
    },
    {
      "cell_type": "code",
      "execution_count": 39,
      "metadata": {},
      "outputs": [
        {
          "name": "stdout",
          "output_type": "stream",
          "text": [
            "\n",
            "Prediction Results:\n",
            "         predicted_stream: Technology\n",
            "               confidence: 0.6732852182352119\n",
            "      success_probability: 40.0\n",
            "   similar_students_count: 50\n",
            "           interpretation: Based on 50 similar past students, 40.0% achieved good A/L results\n"
          ]
        }
      ],
      "source": [
        "# ========================== 15. EXAMPLE USAGE ================================\n",
        "# First ensure preprocessor is fitted (add this if not already done)\n",
        "preprocessor.fit(X_train)  # X_train should be your training data\n",
        "\n",
        "# Define possible values (use actual values from your data)\n",
        "possible_grades = [1, 2, 3, 4, 5]  # Numeric mapped grades (1=W, 5=A)\n",
        "possible_fav_subjects = data['Favorite Subject'].unique().tolist()\n",
        "possible_careers = data['Career'].unique().tolist()\n",
        "\n",
        "# Generate random sample\n",
        "example_input = {\n",
        "    \"Maths\": 5,  # user got 'A'\n",
        "    \"Science\": 3,  # user got 'C'\n",
        "    \"Religion\": 5,  # user got 'A'\n",
        "    \"English\": 4,  # user got 'B'\n",
        "    \"Sinhala or Tamil\": 5,  # user got 'A'\n",
        "    \"History\": 3,  # user got 'C'\n",
        "    \"Basket I\": 4,  # 'B'\n",
        "    \"Basket II\": 3, # 'C'\n",
        "    \"Basket III\": 5, # 'A'\n",
        "    \"Favorite Subject\": \"Sinhala\",\n",
        "    \"Career\": \"Other\"\n",
        "}\n",
        "\n",
        "# Get prediction\n",
        "result = enhanced_predict(best_model, example_input)\n",
        "print(\"\\nPrediction Results:\")\n",
        "for key, value in result.items():\n",
        "    print(f\"{key:>25}: {value}\")"
      ]
    },
    {
      "cell_type": "code",
      "execution_count": 42,
      "metadata": {},
      "outputs": [
        {
          "data": {
            "text/plain": [
              "['model.pkl']"
            ]
          },
          "execution_count": 42,
          "metadata": {},
          "output_type": "execute_result"
        }
      ],
      "source": [
        "# ========================== 16. MODEL SAVING ================================\n",
        "import joblib\n",
        "\n",
        "joblib.dump(model_data, 'model.pkl')"
      ]
    }
  ],
  "metadata": {
    "colab": {
      "provenance": []
    },
    "kernelspec": {
      "display_name": "Python 3",
      "language": "python",
      "name": "python3"
    },
    "language_info": {
      "codemirror_mode": {
        "name": "ipython",
        "version": 3
      },
      "file_extension": ".py",
      "mimetype": "text/x-python",
      "name": "python",
      "nbconvert_exporter": "python",
      "pygments_lexer": "ipython3",
      "version": "3.8.8"
    }
  },
  "nbformat": 4,
  "nbformat_minor": 0
}
